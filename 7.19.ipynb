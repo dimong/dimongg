{
 "cells": [
  {
   "cell_type": "markdown",
   "metadata": {},
   "source": [
    "# 循环\n",
    "- 循环是一种控制语句块重复执行的结构\n",
    "- while  适用于广度遍历\n",
    "- for    开发中经常使用"
   ]
  },
  {
   "cell_type": "markdown",
   "metadata": {},
   "source": [
    "## while 循环\n",
    "- 当一个条件保持真的时候while循环重复执行语句\n",
    "- while 循环一定要有结束条件，否则很容易进入死循环\n",
    "- while 循环的语法是：\n",
    "\n",
    "    while loop-contunuation-conndition:\n",
    "\n",
    "        Statement"
   ]
  },
  {
   "cell_type": "code",
   "execution_count": null,
   "metadata": {},
   "outputs": [],
   "source": [
    "import numpy as np\n",
    "import matplotlib.pyplot as plt\n",
    "import matplotlib as mpl\n",
    "x=np.arange(0.05,3,0.05)\n",
    "y=[i**2 for i in x]\n",
    "plt.plot(x,y)\n",
    "plt.show()"
   ]
  },
  {
   "cell_type": "code",
   "execution_count": null,
   "metadata": {},
   "outputs": [],
   "source": [
    "ee = 'abcd'\n",
    "i= 0\n",
    "while i <4:\n",
    "    \n",
    "    print(ee[i])\n",
    "    i+=1"
   ]
  },
  {
   "cell_type": "markdown",
   "metadata": {},
   "source": [
    "## 示例：\n",
    "sum = 0\n",
    "\n",
    "i = 1\n",
    "\n",
    "while i <10:\n",
    "\n",
    "    sum = sum + i\n",
    "    i = i + 1"
   ]
  },
  {
   "cell_type": "markdown",
   "metadata": {},
   "source": [
    "## 错误示例：\n",
    "sum = 0\n",
    "\n",
    "i = 1\n",
    "\n",
    "while i <10:\n",
    "\n",
    "    sum = sum + i\n",
    "\n",
    "i = i + 1\n",
    "- 一旦进入死循环可按 Ctrl + c 停止"
   ]
  },
  {
   "cell_type": "markdown",
   "metadata": {},
   "source": [
    "## EP：\n",
    "![](../Photo/143.png)\n",
    "![](../Photo/144.png)"
   ]
  },
  {
   "cell_type": "code",
   "execution_count": null,
   "metadata": {},
   "outputs": [],
   "source": []
  },
  {
   "cell_type": "markdown",
   "metadata": {},
   "source": [
    "# 验证码\n",
    "- 随机产生四个字母的验证码，如果正确，输出验证码正确。如果错误，产生新的验证码，用户重新输入。\n",
    "- 验证码只能输入三次，如果三次都错，返回“别爬了，我们小网站没什么好爬的”\n",
    "- 密码登录，如果三次错误，账号被锁定\n"
   ]
  },
  {
   "cell_type": "code",
   "execution_count": null,
   "metadata": {},
   "outputs": [],
   "source": [
    "#SquareSpiral1.py\n",
    "import turtle\n",
    "t = turtle.Pen()\n",
    "turtle.bgcolor(\"black\")\n",
    "\n",
    "\n",
    "my_name=turtle.textinput(\"输入你的姓名\",\"你的名字？\")\n",
    "colors=[\"red\",\"yellow\",\"purple\",\"blue\"]\n",
    "for x in range(100):\n",
    "    t.pencolor(colors[x%4])\n",
    "    t.penup()\n",
    "    t.forward(x*4)\n",
    "    t.pendown()\n",
    "    t.write(my_name,font=(\"Arial\",int((x+4)/4),\"bold\"))\n",
    "    t.left(92)\n",
    "\n",
    "\n",
    "print(\"####结束####\")"
   ]
  },
  {
   "cell_type": "code",
   "execution_count": null,
   "metadata": {},
   "outputs": [],
   "source": [
    "# coding:utf-8\n",
    "__author__ = 'taohao'\n",
    "import matplotlib.pyplot as plt\n",
    "from matplotlib import animation\n",
    "import numpy as np\n",
    "import math\n",
    " \n",
    " \n",
    "def drawHeart():\n",
    "    t = np.linspace(0, math.pi, 1000)\n",
    "    x = np.sin(t)\n",
    "    y = np.cos(t) + np.power(x, 2.0/3)\n",
    "    plt.plot(x, y, color='red', linewidth=2, label='h')\n",
    "    plt.plot(-x, y, color='red', linewidth=2, label='-h')\n",
    "    plt.xlabel('t')\n",
    "    plt.ylabel('h')\n",
    "    plt.ylim(-2, 2)\n",
    "    plt.xlim(-2, 2)\n",
    "    \n",
    "    plt.legend()\n",
    "    plt.show()\n",
    " \n",
    "drawHeart()"
   ]
  },
  {
   "cell_type": "code",
   "execution_count": null,
   "metadata": {
    "scrolled": true
   },
   "outputs": [],
   "source": [
    "import random\n",
    "yanzhengma = ''\n",
    "j =0\n",
    "while j < 3:\n",
    "    for i in range(4):\n",
    "        random_1 = chr(random.randint(65,90))\n",
    "        yanzhengma += random_1\n",
    "    print(yanzhengma)\n",
    "    input_ = input('>>')\n",
    "    if input_ == yanzhengma:\n",
    "        print('OK')\n",
    "        break\n",
    "    else:\n",
    "        print('Error')\n",
    "        yanzhengma = ''\n",
    "        j +=1\n",
    "    if j ==3:\n",
    "        print('别爬了')"
   ]
  },
  {
   "cell_type": "code",
   "execution_count": null,
   "metadata": {},
   "outputs": [],
   "source": [
    "j = 0"
   ]
  },
  {
   "cell_type": "code",
   "execution_count": null,
   "metadata": {},
   "outputs": [],
   "source": [
    "password = 'Joker'\n",
    "i = 0\n",
    "if j !=3:\n",
    "    while i < 3:\n",
    "        pass_=input('>>')\n",
    "        if pass_ == password:\n",
    "            print('OK')\n",
    "            break\n",
    "        else:\n",
    "            print('Error')\n",
    "            i +=1\n",
    "    j = i\n",
    "else:\n",
    "    print('账号锁定')"
   ]
  },
  {
   "cell_type": "markdown",
   "metadata": {},
   "source": [
    "## 尝试死循环"
   ]
  },
  {
   "cell_type": "markdown",
   "metadata": {},
   "source": [
    "## 实例研究：猜数字\n",
    "- 你将要编写一个能够随机生成一个0到10之间的且包括两者的数字程序，这个程序\n",
    "- 提示用户连续地输入数字直到正确，且提示用户输入的数字是过高还是过低"
   ]
  },
  {
   "cell_type": "code",
   "execution_count": null,
   "metadata": {},
   "outputs": [],
   "source": []
  },
  {
   "cell_type": "markdown",
   "metadata": {},
   "source": [
    "## 使用哨兵值来控制循环\n",
    "- 哨兵值来表明输入的结束\n",
    "- ![](../Photo/54.png)"
   ]
  },
  {
   "cell_type": "markdown",
   "metadata": {},
   "source": [
    "## 警告\n",
    "![](../Photo/55.png)"
   ]
  },
  {
   "cell_type": "markdown",
   "metadata": {},
   "source": [
    "## for 循环\n",
    "- Python的for 循环通过一个序列中的每个值来进行迭代\n",
    "- range(a,b,k)， a，b，k 必须为整数\n",
    "- a: start\n",
    "- b: end\n",
    "- k: step\n",
    "- 注意for 是循环一切可迭代对象，而不是只能使用range"
   ]
  },
  {
   "cell_type": "code",
   "execution_count": null,
   "metadata": {},
   "outputs": [],
   "source": [
    "# range(,,步长)"
   ]
  },
  {
   "cell_type": "markdown",
   "metadata": {},
   "source": [
    "# 在Python里面一切皆对象"
   ]
  },
  {
   "cell_type": "markdown",
   "metadata": {},
   "source": [
    "## EP:\n",
    "- ![](../Photo/145.png)"
   ]
  },
  {
   "cell_type": "code",
   "execution_count": null,
   "metadata": {},
   "outputs": [],
   "source": [
    "sum =0\n",
    "i=0\n",
    "while i<1001:\n",
    "    sum +=i\n",
    "    i +=1"
   ]
  },
  {
   "cell_type": "markdown",
   "metadata": {},
   "source": [
    "## 嵌套循环\n",
    "- 一个循环可以嵌套另一个循环\n",
    "- 每次循环外层时，内层循环都会被刷新重新完成循环\n",
    "- 也就是说，大循环执行一次，小循环会全部执行一次\n",
    "- 注意：\n",
    "> - 多层循环非常耗时\n",
    "  - 最多使用3层循环"
   ]
  },
  {
   "cell_type": "markdown",
   "metadata": {},
   "source": [
    "## EP：\n",
    "- 使用多层循环完成9X9乘法表\n",
    "- 显示50以内所有的素数"
   ]
  },
  {
   "cell_type": "code",
   "execution_count": null,
   "metadata": {},
   "outputs": [],
   "source": [
    "\n",
    "i=2\n",
    "for i in range (2,50):\n",
    "    j=2\n",
    "    for j in range(2,i):\n",
    "        if(i%j==0):\n",
    "            break\n",
    "    else:\n",
    "        print(i)\n"
   ]
  },
  {
   "cell_type": "code",
   "execution_count": null,
   "metadata": {},
   "outputs": [],
   "source": [
    "for i in range(1,10):\n",
    "    for j in range(1,i+1):\n",
    "            print(i,'*',j,'=',i*j,end=' ')\n",
    "    print()"
   ]
  },
  {
   "cell_type": "markdown",
   "metadata": {},
   "source": [
    "## 关键字 break 和 continue\n",
    "- break 跳出循环，终止循环\n",
    "- continue 跳出此次循环，继续执行"
   ]
  },
  {
   "cell_type": "markdown",
   "metadata": {},
   "source": [
    "## 注意\n",
    "![](../Photo/56.png)\n",
    "![](../Photo/57.png)"
   ]
  },
  {
   "cell_type": "markdown",
   "metadata": {},
   "source": [
    "# Homework\n",
    "- 1 \n",
    "![](../Photo/58.png)"
   ]
  },
  {
   "cell_type": "code",
   "execution_count": null,
   "metadata": {},
   "outputs": [],
   "source": [
    "a = eval(input('请输入一个数： '))\n",
    "sum = 0\n",
    "i = 0\n",
    "while a!=0:\n",
    "    sum += a\n",
    "    a = eval(input('请输入一个数： '))\n",
    "    i += 1    \n",
    "pingjun =sum / i\n",
    "print('平均数 =',pingjun)"
   ]
  },
  {
   "cell_type": "markdown",
   "metadata": {},
   "source": [
    "- 2\n",
    "![](../Photo/59.png)"
   ]
  },
  {
   "cell_type": "code",
   "execution_count": null,
   "metadata": {},
   "outputs": [],
   "source": [
    "xuefei =10000\n",
    "sum = 10000\n",
    "for i in range(0,10):\n",
    "    xuefei=xuefei*(1+0.05)\n",
    "    sum = sum+xuefei\n",
    "print('10年后学费：',xuefei)\n",
    "print('10年后所有学费：',sum)"
   ]
  },
  {
   "cell_type": "markdown",
   "metadata": {},
   "source": [
    "- 3\n",
    "![](../Photo/58.png)"
   ]
  },
  {
   "cell_type": "code",
   "execution_count": null,
   "metadata": {},
   "outputs": [],
   "source": []
  },
  {
   "cell_type": "markdown",
   "metadata": {},
   "source": [
    "- 4\n",
    "![](../Photo/60.png)"
   ]
  },
  {
   "cell_type": "code",
   "execution_count": null,
   "metadata": {},
   "outputs": [],
   "source": [
    "j =0\n",
    "for i in range(100,1001):\n",
    "    if i%5==0 and i%6==0: \n",
    "        print(i,end=' ')\n",
    "        j +=1\n",
    "    elif j==10:\n",
    "        print()\n",
    "        j = 0\n",
    "        "
   ]
  },
  {
   "cell_type": "markdown",
   "metadata": {},
   "source": [
    "- 5\n",
    "![](../Photo/61.png)"
   ]
  },
  {
   "cell_type": "code",
   "execution_count": null,
   "metadata": {},
   "outputs": [],
   "source": [
    "dd = 0\n",
    "n = 1\n",
    "q = 1\n",
    "qq = 0\n",
    "while dd < 12000:\n",
    "    dd = n ** 2\n",
    "    n += 1\n",
    "print('满足n方大于12000的最小整数：',n-1)\n",
    "while qq < 12000:\n",
    "    qq = q ** 3\n",
    "    q += 1\n",
    "print('满足n的3次方小于12000的最大整数：',q-2)"
   ]
  },
  {
   "cell_type": "markdown",
   "metadata": {},
   "source": [
    "- 6\n",
    "![](../Photo/62.png)"
   ]
  },
  {
   "cell_type": "code",
   "execution_count": null,
   "metadata": {},
   "outputs": [],
   "source": [
    "am = eval(input('请输入贷款额： '))\n",
    "year = eval(input('请输入年份： '))\n",
    "lilv = 0.05\n",
    "for i in range(1,year+1):\n",
    "    pay = am * lilv"
   ]
  },
  {
   "cell_type": "markdown",
   "metadata": {},
   "source": [
    "- 7\n",
    "![](../Photo/63.png)"
   ]
  },
  {
   "cell_type": "code",
   "execution_count": null,
   "metadata": {},
   "outputs": [],
   "source": [
    "n = 50000\n",
    "sum = 0\n",
    "j=1\n",
    "sum2 = 0\n",
    "while n > 0 :\n",
    "    sum +=1/n\n",
    "    n -=n\n",
    "print('结果为：',sum)\n",
    "while j <= 50000 :\n",
    "    sum2 +=1/j\n",
    "    j +=1\n",
    "print('结果为：',sum2)"
   ]
  },
  {
   "cell_type": "markdown",
   "metadata": {},
   "source": [
    "- 8\n",
    "![](../Photo/64.png)"
   ]
  },
  {
   "cell_type": "code",
   "execution_count": null,
   "metadata": {},
   "outputs": [],
   "source": [
    "a = 1\n",
    "n = 3\n",
    "sum = 0\n",
    "while a<=97 and n<=99:\n",
    "    sum +=a/n\n",
    "    a +=2\n",
    "    n +=2\n",
    "print('和为：',sum)"
   ]
  },
  {
   "cell_type": "markdown",
   "metadata": {},
   "source": [
    "- 9\n",
    "![](../Photo/65.png)"
   ]
  },
  {
   "cell_type": "code",
   "execution_count": 2,
   "metadata": {},
   "outputs": [
    {
     "name": "stdout",
     "output_type": "stream",
     "text": [
      "3.141392653591791\n",
      "3.1414926535900345\n",
      "3.1415259869231935\n",
      "3.1415426535898248\n",
      "3.141552653589803\n",
      "3.141559320256462\n",
      "3.141564082161233\n",
      "3.1415676535897985\n",
      "3.141570431367571\n",
      "3.1415726535897814\n"
     ]
    }
   ],
   "source": [
    "n = 1\n",
    "s = 0\n",
    "for j in range(10000,100001,10000):\n",
    "    for i in range(1,j+1,2):\n",
    "        if n%2:\n",
    "            s = s + 1/i\n",
    "        else:\n",
    "            s = s - 1/i\n",
    "        n+=1\n",
    "    print(4*s)\n",
    "    s = 0"
   ]
  },
  {
   "cell_type": "markdown",
   "metadata": {},
   "source": [
    "- 10 \n",
    "![](../Photo/66.png)"
   ]
  },
  {
   "cell_type": "code",
   "execution_count": null,
   "metadata": {},
   "outputs": [],
   "source": [
    "p =0\n",
    "for n in range (1,10000):\n",
    "    for a in range (1,n):\n",
    "        if n%a ==0:\n",
    "            p +=a\n",
    "    if p==n:\n",
    "        print (n)\n",
    "    p =0"
   ]
  },
  {
   "cell_type": "markdown",
   "metadata": {},
   "source": [
    "- 11\n",
    "![](../Photo/67.png)"
   ]
  },
  {
   "cell_type": "code",
   "execution_count": null,
   "metadata": {},
   "outputs": [],
   "source": [
    "a = 0\n",
    "for i in range(1,8):\n",
    "    for j in range(i+1,8):\n",
    "        a +=1\n",
    "print('一共有：',a)"
   ]
  },
  {
   "cell_type": "markdown",
   "metadata": {},
   "source": [
    "- 12\n",
    "![](../Photo/68.png)"
   ]
  },
  {
   "cell_type": "code",
   "execution_count": null,
   "metadata": {},
   "outputs": [],
   "source": [
    "b = []\n",
    "while len(b)!=10:\n",
    "    a = eval(input('>>'))\n",
    "    b.append(a)\n",
    "mean = sum(b)/10\n",
    "s = 0\n",
    "for i in b:\n",
    "    s = s + (i-mean)**2\n",
    "devi = s/10\n",
    "print('mean is',mean)\n",
    "print('deviation is',round(devi,4))"
   ]
  }
 ],
 "metadata": {
  "kernelspec": {
   "display_name": "Python 3",
   "language": "python",
   "name": "python3"
  },
  "language_info": {
   "codemirror_mode": {
    "name": "ipython",
    "version": 3
   },
   "file_extension": ".py",
   "mimetype": "text/x-python",
   "name": "python",
   "nbconvert_exporter": "python",
   "pygments_lexer": "ipython3",
   "version": "3.6.4"
  }
 },
 "nbformat": 4,
 "nbformat_minor": 2
}
