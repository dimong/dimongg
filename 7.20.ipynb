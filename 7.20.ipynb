{
 "cells": [
  {
   "cell_type": "markdown",
   "metadata": {},
   "source": [
    "# 函数\n",
    "\n",
    "- 函数可以用来定义可重复代码，组织和简化\n",
    "- 一般来说一个函数在实际开发中为一个小功能\n",
    "- 一个类为一个大功能\n",
    "- 同样函数的长度不要超过一屏"
   ]
  },
  {
   "cell_type": "code",
   "execution_count": null,
   "metadata": {},
   "outputs": [],
   "source": [
    "def shenxian(name1,name2):\n",
    "    print('神仙是{},{}'.format(name1,name2))"
   ]
  },
  {
   "cell_type": "code",
   "execution_count": null,
   "metadata": {},
   "outputs": [],
   "source": [
    "shenxian('haha','hehe')"
   ]
  },
  {
   "cell_type": "code",
   "execution_count": 4,
   "metadata": {},
   "outputs": [],
   "source": [
    "def qiuou(shu,is_print=True):\n",
    "    if shu % 2 == 0:\n",
    "        if is_print:\n",
    "            print('oushu')"
   ]
  },
  {
   "cell_type": "code",
   "execution_count": 6,
   "metadata": {},
   "outputs": [
    {
     "name": "stdout",
     "output_type": "stream",
     "text": [
      "4\n"
     ]
    }
   ],
   "source": [
    "shu = eval(input())\n",
    "qiuou(shu,is_print=False)"
   ]
  },
  {
   "cell_type": "code",
   "execution_count": 23,
   "metadata": {},
   "outputs": [],
   "source": [
    "def ou():\n",
    "    print('偶数：',end='')\n",
    "    for i in range(11):\n",
    "        if i % 2 == 0:\n",
    "            print(i,end=' ')\n",
    "    ji()\n",
    "            \n",
    "def ji():\n",
    "    print()\n",
    "    print('奇数：',end='')\n",
    "    for i in range(11):\n",
    "        if i % 2 != 0:\n",
    "            print(i,end=' ')"
   ]
  },
  {
   "cell_type": "code",
   "execution_count": 24,
   "metadata": {
    "scrolled": false
   },
   "outputs": [
    {
     "name": "stdout",
     "output_type": "stream",
     "text": [
      "偶数：0 2 4 6 8 10 \n",
      "奇数：1 3 5 7 9 "
     ]
    }
   ],
   "source": [
    "ou()"
   ]
  },
  {
   "cell_type": "code",
   "execution_count": 25,
   "metadata": {},
   "outputs": [
    {
     "data": {
      "text/plain": [
       "'fdedaafb043d41ff06b6ef249ef53be9'"
      ]
     },
     "execution_count": 25,
     "metadata": {},
     "output_type": "execute_result"
    }
   ],
   "source": [
    "import hashlib\n",
    "data = 'This a md5 test!'\n",
    "hash_md5 = hashlib.md5(data.encode())\n",
    "hash_md5.hexdigest()\n",
    "def password():\n",
    "    pass\n",
    "\n",
    "def md5():\n",
    "    pass\n",
    "\n",
    "def result():\n",
    "    pass"
   ]
  },
  {
   "cell_type": "code",
   "execution_count": 27,
   "metadata": {},
   "outputs": [],
   "source": [
    "import hashlib\n",
    "\n",
    "# -------数据库里面的密码---------\n",
    "data =  'huhuhu'\n",
    "hash_md5 = hashlib.md5(data.encode())\n",
    "init_password = hash_md5.hexdigest()\n",
    "\n",
    "\n",
    "# -------ajax登录的明文密码-------\n",
    "def password(passw):\n",
    "    md5(passw)  # 进行MD5摘要\n",
    "\n",
    "# ----------MD5摘要--------------- \n",
    "def md5(passw):\n",
    "    hash_md5 = hashlib.md5(passw.encode())\n",
    "    input_password = hash_md5.hexdigest() # 输入的MD5摘要密码\n",
    "    if init_password == input_password:\n",
    "        #result('OK')\n",
    "        return\n",
    "    else:\n",
    "        result('Faild')\n",
    "    \n",
    "def result(res):\n",
    "    print(res)"
   ]
  },
  {
   "cell_type": "markdown",
   "metadata": {},
   "source": [
    "## 定义一个函数\n",
    "\n",
    "def function_name(list of parameters):\n",
    "    \n",
    "    do something\n",
    "![](../Photo/69.png)\n",
    "- 以前使用的random 或者range 或者print.. 其实都是函数或者类"
   ]
  },
  {
   "cell_type": "markdown",
   "metadata": {},
   "source": [
    "## 调用一个函数\n",
    "- functionName()\n",
    "- \"()\" 就代表调用"
   ]
  },
  {
   "cell_type": "markdown",
   "metadata": {},
   "source": [
    "![](../Photo/70.png)"
   ]
  },
  {
   "cell_type": "markdown",
   "metadata": {},
   "source": [
    "## 带返回值和不带返回值的函数\n",
    "- return 返回的内容\n",
    "- return 返回多个值\n",
    "- 一般情况下，在多个函数协同完成一个功能的时候，那么将会有返回值"
   ]
  },
  {
   "cell_type": "markdown",
   "metadata": {},
   "source": [
    "![](../Photo/71.png)\n",
    "\n",
    "- 当然也可以自定义返回None"
   ]
  },
  {
   "cell_type": "markdown",
   "metadata": {},
   "source": [
    "## EP：\n",
    "![](../Photo/72.png)"
   ]
  },
  {
   "cell_type": "code",
   "execution_count": 29,
   "metadata": {},
   "outputs": [],
   "source": [
    "def main():\n",
    "    print(min(min(5,6),(51,6)))"
   ]
  },
  {
   "cell_type": "markdown",
   "metadata": {},
   "source": [
    "## 类型和关键字参数\n",
    "- 普通参数\n",
    "- 多个参数\n",
    "- 默认值参数\n",
    "- 不定长参数"
   ]
  },
  {
   "cell_type": "markdown",
   "metadata": {},
   "source": [
    "## 普通参数"
   ]
  },
  {
   "cell_type": "markdown",
   "metadata": {},
   "source": [
    "## 多个参数"
   ]
  },
  {
   "cell_type": "markdown",
   "metadata": {},
   "source": [
    "## 默认值参数"
   ]
  },
  {
   "cell_type": "markdown",
   "metadata": {},
   "source": [
    "## 强制命名"
   ]
  },
  {
   "cell_type": "code",
   "execution_count": null,
   "metadata": {},
   "outputs": [],
   "source": [
    "def test(name1,*,name2)\n",
    "# 传参数必须带名字"
   ]
  },
  {
   "cell_type": "markdown",
   "metadata": {},
   "source": [
    "## 不定长参数\n",
    "- \\*args\n",
    "> - 不定长，来多少装多少，不装也是可以的\n",
    "  - 返回的数据类型是元组\n",
    "  - args 名字是可以修改的，只是我们约定俗成的是args\n",
    "- \\**kwargs \n",
    "> - 返回的字典\n",
    "  - 输入的一定要是表达式（键值对）"
   ]
  },
  {
   "cell_type": "code",
   "execution_count": 31,
   "metadata": {},
   "outputs": [
    {
     "name": "stdout",
     "output_type": "stream",
     "text": [
      "(1, 2)\n"
     ]
    }
   ],
   "source": [
    "def test(*args):\n",
    "    print(args)\n",
    "\n",
    "test(1,2)"
   ]
  },
  {
   "cell_type": "code",
   "execution_count": null,
   "metadata": {},
   "outputs": [],
   "source": [
    "def test(*args,name3) # 传参命名的话可以 \n",
    "def test(*args,name3='hahaha')\n",
    "def test(name3,*args)\n",
    "def test(*args) #组\n",
    "def test(**args)  #字典"
   ]
  },
  {
   "cell_type": "code",
   "execution_count": 35,
   "metadata": {},
   "outputs": [
    {
     "name": "stdout",
     "output_type": "stream",
     "text": [
      "{'a': 1, 'b': 2}\n"
     ]
    }
   ],
   "source": [
    "def test(**arges):\n",
    "    print(arges)\n",
    "\n",
    "test(a=1,b=2aaasd)"
   ]
  },
  {
   "cell_type": "markdown",
   "metadata": {},
   "source": [
    "## 变量的作用域\n",
    "- 局部变量 local\n",
    "- 全局变量 global\n",
    "- globals 函数返回一个全局变量的字典，包括所有导入的变量\n",
    "- locals() 函数会以字典类型返回当前位置的全部局部变量。"
   ]
  },
  {
   "cell_type": "markdown",
   "metadata": {},
   "source": [
    "## 注意：\n",
    "- global ：在进行赋值操作的时候需要声明\n",
    "- 官方解释：This is because when you make an assignment to a variable in a scope, that variable becomes local to that scope and shadows any similarly named variable in the outer scope.\n",
    "- ![](../Photo/73.png)"
   ]
  },
  {
   "cell_type": "markdown",
   "metadata": {},
   "source": [
    "# Homework\n",
    "- 1\n",
    "![](../Photo/74.png)"
   ]
  },
  {
   "cell_type": "code",
   "execution_count": 42,
   "metadata": {},
   "outputs": [
    {
     "name": "stdout",
     "output_type": "stream",
     "text": [
      "1.0 5.0 12.0 22.0 35.0 51.0 70.0 92.0 117.0 145.0 \n",
      "176.0 210.0 247.0 287.0 330.0 376.0 425.0 477.0 532.0 590.0 \n",
      "651.0 715.0 782.0 852.0 925.0 1001.0 1080.0 1162.0 1247.0 1335.0 \n",
      "1426.0 1520.0 1617.0 1717.0 1820.0 1926.0 2035.0 2147.0 2262.0 2380.0 \n",
      "2501.0 2625.0 2752.0 2882.0 3015.0 3151.0 3290.0 3432.0 3577.0 3725.0 \n",
      "3876.0 4030.0 4187.0 4347.0 4510.0 4676.0 4845.0 5017.0 5192.0 5370.0 \n",
      "5551.0 5735.0 5922.0 6112.0 6305.0 6501.0 6700.0 6902.0 7107.0 7315.0 \n",
      "7526.0 7740.0 7957.0 8177.0 8400.0 8626.0 8855.0 9087.0 9322.0 9560.0 \n",
      "9801.0 10045.0 10292.0 10542.0 10795.0 11051.0 11310.0 11572.0 11837.0 12105.0 \n",
      "12376.0 12650.0 12927.0 13207.0 13490.0 13776.0 14065.0 14357.0 14652.0 14950.0 \n"
     ]
    }
   ],
   "source": [
    "def getPentagonalNumber(n):\n",
    "    for i in range(1,n+1):\n",
    "        a = i*(3*i-1)/2\n",
    "        if i%10==0:\n",
    "            print(a,end=' ')\n",
    "            print()\n",
    "        else:\n",
    "            print(a,end=' ')\n",
    "getPentagonalNumber(100)"
   ]
  },
  {
   "cell_type": "markdown",
   "metadata": {},
   "source": [
    "- 2 \n",
    "![](../Photo/75.png)"
   ]
  },
  {
   "cell_type": "code",
   "execution_count": 63,
   "metadata": {},
   "outputs": [
    {
     "name": "stdout",
     "output_type": "stream",
     "text": [
      "9\n"
     ]
    }
   ],
   "source": [
    "def sumDigits(n):\n",
    "    a = n // 100\n",
    "    b = (n  % 100) //10\n",
    "    c = (n % 100) %10\n",
    "    print (a+b+c)\n",
    "sumDigits(234)\n"
   ]
  },
  {
   "cell_type": "markdown",
   "metadata": {},
   "source": [
    "- 3\n",
    "![](../Photo/76.png)"
   ]
  },
  {
   "cell_type": "code",
   "execution_count": 69,
   "metadata": {},
   "outputs": [
    {
     "name": "stdout",
     "output_type": "stream",
     "text": [
      "2 3 4\n"
     ]
    }
   ],
   "source": [
    "def display(num1,num2,num3):\n",
    "    a = max(num1,num2,num3)\n",
    "    b = min(num1,num2,num3)\n",
    "    c = num1+num2+num3-a-b\n",
    "    print(b,c,a)\n",
    "display(3,2,4)"
   ]
  },
  {
   "cell_type": "markdown",
   "metadata": {},
   "source": [
    "- 4\n",
    "![](../Photo/77.png)"
   ]
  },
  {
   "cell_type": "markdown",
   "metadata": {},
   "source": [
    "- 5\n",
    "![](../Photo/78.png)"
   ]
  },
  {
   "cell_type": "code",
   "execution_count": 102,
   "metadata": {},
   "outputs": [
    {
     "name": "stdout",
     "output_type": "stream",
     "text": [
      "1 2 3 4 5 6 7 8 9 : \n",
      "; < = > ? @ A B C D \n",
      "E F G H I J K L M N \n",
      "O P Q R S T U V W X \n",
      "Y Z "
     ]
    }
   ],
   "source": [
    "def printchars(ch1,ch2,num):\n",
    "    a = ord(ch1)\n",
    "    b = ord(ch2)+1\n",
    "    j=0\n",
    "    for i in range(a,b):\n",
    "        j +=1\n",
    "        if j % num ==0:\n",
    "            print(chr(i),end=' ')\n",
    "            print()\n",
    "        else:\n",
    "            print(chr(i),end=' ')\n",
    "printchars('1','Z',10)"
   ]
  },
  {
   "cell_type": "markdown",
   "metadata": {},
   "source": [
    "- 6\n",
    "![](../Photo/79.png)"
   ]
  },
  {
   "cell_type": "code",
   "execution_count": 81,
   "metadata": {},
   "outputs": [
    {
     "name": "stdout",
     "output_type": "stream",
     "text": [
      "2010 年有365天！\n",
      "2011 年有365天！\n",
      "2012 年有366天！\n",
      "2013 年有365天！\n",
      "2014 年有365天！\n",
      "2015 年有365天！\n",
      "2016 年有366天！\n",
      "2017 年有365天！\n",
      "2018 年有365天！\n",
      "2019 年有365天！\n",
      "2020 年有366天！\n"
     ]
    }
   ],
   "source": [
    "def numberof(*year):\n",
    "    for i in year:\n",
    "        if (i % 4 ==0 and  i % 100 != 0) or i % 400 ==0:\n",
    "            print(i,'年有366天！')\n",
    "        else:\n",
    "            print(i,'年有365天！')\n",
    "\n",
    "numberof(2010,2011,2012,2013,2014,2015,2016,2017,2018,2019,2020)"
   ]
  },
  {
   "cell_type": "markdown",
   "metadata": {},
   "source": [
    "- 7\n",
    "![](../Photo/80.png)"
   ]
  },
  {
   "cell_type": "code",
   "execution_count": 98,
   "metadata": {
    "scrolled": true
   },
   "outputs": [
    {
     "name": "stdout",
     "output_type": "stream",
     "text": [
      "2.0\n"
     ]
    }
   ],
   "source": [
    "import math\n",
    "def distance(x1,y1,x2,y2):\n",
    "    b = (x1  - x2 )**2 +(y1 - y2 )**2\n",
    "    c = math.sqrt(b)\n",
    "    print(c)\n",
    "distance(0,6,0,4)"
   ]
  },
  {
   "cell_type": "markdown",
   "metadata": {},
   "source": [
    "- 8\n",
    "![](../Photo/81.png)"
   ]
  },
  {
   "cell_type": "markdown",
   "metadata": {},
   "source": [
    "- 9\n",
    "![](../Photo/82.png)\n",
    "![](../Photo/83.png)"
   ]
  },
  {
   "cell_type": "markdown",
   "metadata": {},
   "source": [
    "- 10\n",
    "![](../Photo/84.png)"
   ]
  },
  {
   "cell_type": "markdown",
   "metadata": {},
   "source": [
    "- 11 \n",
    "### 去网上寻找如何用Python代码发送邮件"
   ]
  }
 ],
 "metadata": {
  "kernelspec": {
   "display_name": "Python 3",
   "language": "python",
   "name": "python3"
  },
  "language_info": {
   "codemirror_mode": {
    "name": "ipython",
    "version": 3
   },
   "file_extension": ".py",
   "mimetype": "text/x-python",
   "name": "python",
   "nbconvert_exporter": "python",
   "pygments_lexer": "ipython3",
   "version": "3.6.4"
  }
 },
 "nbformat": 4,
 "nbformat_minor": 2
}
