{
 "cells": [
  {
   "cell_type": "markdown",
   "metadata": {},
   "source": [
    "# 选择\n",
    "## 布尔类型、数值和表达式\n",
    "![](../Photo/33.png)\n",
    "- 注意：比较运算符的相等是两个等到，一个等到代表赋值\n",
    "- 在Python中可以用整型0来代表False，其他数字来代表True\n",
    "- 后面还会讲到 is 在判断语句中的用发"
   ]
  },
  {
   "cell_type": "code",
   "execution_count": null,
   "metadata": {},
   "outputs": [],
   "source": [
    "b=100"
   ]
  },
  {
   "cell_type": "code",
   "execution_count": null,
   "metadata": {},
   "outputs": [],
   "source": [
    "aa = eval(input('请输入密码： '))\n",
    "bb = 123456\n",
    "if aa == bb:\n",
    "    a = eval(input('请输入取多少钱： '))\n",
    "    if a <= b:\n",
    "        c = b-a\n",
    "        print('取钱成功')\n",
    "        b=c\n",
    "        print('余额',c)\n",
    "  #      send_message()\n",
    "    else:\n",
    "        print('失败')\n",
    "else:\n",
    "    print('密码错误')"
   ]
  },
  {
   "cell_type": "markdown",
   "metadata": {},
   "source": [
    "## 字符串的比较使用ASCII值"
   ]
  },
  {
   "cell_type": "markdown",
   "metadata": {},
   "source": [
    "## Markdown \n",
    "- https://github.com/younghz/Markdown"
   ]
  },
  {
   "cell_type": "markdown",
   "metadata": {},
   "source": [
    "## EP:\n",
    "- <img src=\"../Photo/34.png\"></img>\n",
    "- 输入一个数字，判断其实奇数还是偶数"
   ]
  },
  {
   "cell_type": "markdown",
   "metadata": {},
   "source": [
    "## 产生随机数字\n",
    "- 函数random.randint(a,b) 可以用来产生一个a和b之间且包括a和b的随机整数"
   ]
  },
  {
   "cell_type": "markdown",
   "metadata": {},
   "source": [
    "##  其他random方法\n",
    "- random.random 返回0.0到1.0之间前闭后开区间的随机浮点\n",
    "- random.randrange(a,b) 前闭后开"
   ]
  },
  {
   "cell_type": "markdown",
   "metadata": {},
   "source": [
    "## EP：\n",
    "- 产生两个随机整数number1和number2，然后显示给用户，使用户输入数字的和，并判定其是否正确\n",
    "- 进阶:写一个随机序号点名程序"
   ]
  },
  {
   "cell_type": "code",
   "execution_count": null,
   "metadata": {},
   "outputs": [],
   "source": [
    "import random\n",
    "a = random.randint(1,10)\n",
    "b = random.randint(1,6)\n",
    "if b < 5:\n",
    "    print('请第',a,'行','第',b,'个同学回答问题')\n",
    "else:\n",
    "    print('请第 9 行','第',b,'个同学回答问题')"
   ]
  },
  {
   "cell_type": "markdown",
   "metadata": {},
   "source": [
    "## if语句\n",
    "- 如果条件正确就执行一个单向if语句，亦即当条件为真的时候才执行if内部的语句\n",
    "- Python有很多选择语句:\n",
    "> - 单向if \n",
    "  - 双向if-else\n",
    "  - 嵌套if\n",
    "  - 多向if-elif-else\n",
    "  \n",
    "- 注意：当语句含有子语句的时候，那么一定至少要有一个缩进，也就是说如果有儿子存在，那么一定要缩进\n",
    "- 切记不可tab键和space混用，单用tab 或者 space\n",
    "- 当你输出的结果是无论if是否为真时都需要显示时，语句应该与if对齐"
   ]
  },
  {
   "cell_type": "code",
   "execution_count": null,
   "metadata": {},
   "outputs": [],
   "source": []
  },
  {
   "cell_type": "markdown",
   "metadata": {},
   "source": [
    "## EP：\n",
    "- 用户输入一个数字，判断其实奇数还是偶数\n",
    "- 进阶：可以查看下4.5实例研究猜生日"
   ]
  },
  {
   "cell_type": "markdown",
   "metadata": {},
   "source": [
    "## 双向if-else 语句\n",
    "- 如果条件为真，那么走if内部语句，否则走else内部语句"
   ]
  },
  {
   "cell_type": "markdown",
   "metadata": {},
   "source": [
    "## EP：\n",
    "- 产生两个随机整数number1和number2，然后显示给用户，使用户输入数字，并判定其是否正确,如果正确打印“you‘re correct”，否则打印正确错误"
   ]
  },
  {
   "cell_type": "markdown",
   "metadata": {},
   "source": [
    "## 嵌套if 和多向if-elif-else\n",
    "![](../Photo/35.png)"
   ]
  },
  {
   "cell_type": "markdown",
   "metadata": {},
   "source": [
    "## EP：\n",
    "- 提示用户输入一个年份，然后显示表示这一年的动物\n",
    "![](../Photo/36.png)\n",
    "- 计算身体质量指数的程序\n",
    "- BMI = 以千克为单位的体重除以以米为单位的身高\n",
    "![](../Photo/37.png)"
   ]
  },
  {
   "cell_type": "code",
   "execution_count": null,
   "metadata": {},
   "outputs": [],
   "source": [
    "tz = eval(input('请输入体重（KG）： '))\n",
    "sg = eval(input('身高（m）： '))\n",
    "aa = tz / sg\n",
    "if aa<18.5:\n",
    "    print('超轻')\n",
    "if 18.5<=aa<25.0:\n",
    "    print('标准')\n",
    "if 25.0<=aa<30.0:\n",
    "    print('超重')\n",
    "if 30.0<=aa:\n",
    "    print('吃肥')"
   ]
  },
  {
   "cell_type": "code",
   "execution_count": null,
   "metadata": {},
   "outputs": [],
   "source": [
    "year = eval(input('请输入年份： '))\n",
    "b = year % 12\n",
    "if b == 0:\n",
    "    print('猴')\n",
    "elif b== 1:\n",
    "    print('鸡')\n",
    "elif b== 2:\n",
    "    print('狗')\n",
    "elif b== 3:\n",
    "    print('猪')\n",
    "elif b== 4:\n",
    "    print('鼠')\n",
    "elif b== 5:\n",
    "    print('牛')\n",
    "elif b== 6:\n",
    "    print('虎')\n",
    "elif b== 7:\n",
    "    print('兔')\n",
    "elif b== 8:\n",
    "    print('龙')\n",
    "elif b== 9:\n",
    "    print('蛇')\n",
    "elif b== 10:\n",
    "    print('马')\n",
    "elif b== 11:\n",
    "    print('羊')"
   ]
  },
  {
   "cell_type": "markdown",
   "metadata": {},
   "source": [
    "## 逻辑运算符\n",
    "![](../Photo/38.png)"
   ]
  },
  {
   "cell_type": "markdown",
   "metadata": {},
   "source": [
    "![](../Photo/39.png)\n",
    "![](../Photo/40.png)"
   ]
  },
  {
   "cell_type": "markdown",
   "metadata": {},
   "source": [
    "## EP：\n",
    "- 判定闰年：一个年份如果能被4整除但不能被100整除，或者能被400整除，那么这个年份就是闰年\n",
    "- 提示用户输入一个年份，并返回是否是闰年\n",
    "- 提示用户输入一个数字，判断其是否为水仙花数"
   ]
  },
  {
   "cell_type": "code",
   "execution_count": null,
   "metadata": {},
   "outputs": [],
   "source": [
    "for i in range(100,1000):\n",
    "    a = i % 10\n",
    "    b = i // 100\n",
    "    c = (i // 10) % 10\n",
    "    e = a ** 3 + b ** 3 + c ** 3\n",
    "    if e == i:\n",
    "        print(e)"
   ]
  },
  {
   "cell_type": "code",
   "execution_count": null,
   "metadata": {},
   "outputs": [],
   "source": [
    "stri = 'asdsad'"
   ]
  },
  {
   "cell_type": "code",
   "execution_count": null,
   "metadata": {},
   "outputs": [],
   "source": [
    "stri[1]"
   ]
  },
  {
   "cell_type": "code",
   "execution_count": null,
   "metadata": {},
   "outputs": [],
   "source": [
    "year = eval(input('nianfen: '))\n",
    "if (year % 4 ==0 and  year % 100 != 0) or year % 400 ==0:\n",
    "    print('闰年')\n",
    "else:\n",
    "    print('非')"
   ]
  },
  {
   "cell_type": "markdown",
   "metadata": {},
   "source": [
    "## 实例研究：彩票\n",
    "![](../Photo/41.png)"
   ]
  },
  {
   "cell_type": "code",
   "execution_count": null,
   "metadata": {},
   "outputs": [],
   "source": [
    "import random\n",
    "a = input('请输入一个两位数： ')\n",
    "b = str(random.randint(10,99))\n",
    "print('随机生成： ',b)\n",
    "if a == (b[0]+b[1]):\n",
    "    print('恭喜获得10000$')\n",
    "elif a == (b[1]+b[0]):\n",
    "    print('恭喜获得3000$')\n",
    "elif a[0] == b[0] or a[0] == b[1] or a[1] == b[0] or a[1] == b[1]:\n",
    "    print('恭喜获得1000$')\n",
    "else:\n",
    "    print('抱歉什么也没有！')"
   ]
  },
  {
   "cell_type": "markdown",
   "metadata": {},
   "source": [
    "# Homework\n",
    "- 1\n",
    "![](../Photo/42.png)"
   ]
  },
  {
   "cell_type": "code",
   "execution_count": null,
   "metadata": {},
   "outputs": [],
   "source": [
    "import math\n",
    "a,b,c = eval(input('Enter a,b,c'))\n",
    "e = b**2 -4*a*c\n",
    "if e > 0:\n",
    "    r1=(-b+math.sqrt(e))/2*a\n",
    "    r2=(-b-math.sqrt(e))/2*a\n",
    "    print('r1=',round(r1,6),'\\nr2',round(r2,6))\n",
    "elif e == 0:\n",
    "    r =-b / 2*a\n",
    "    print('r=',int(r))\n",
    "else:\n",
    "    print('没有实根！')"
   ]
  },
  {
   "cell_type": "markdown",
   "metadata": {},
   "source": [
    "- 2\n",
    "![](../Photo/43.png)"
   ]
  },
  {
   "cell_type": "code",
   "execution_count": null,
   "metadata": {},
   "outputs": [],
   "source": []
  },
  {
   "cell_type": "code",
   "execution_count": null,
   "metadata": {},
   "outputs": [],
   "source": [
    "import random\n",
    "a = random.randint(0,100)\n",
    "b = random.randint(0,100)\n",
    "print('生成2个数为： ',a,' ',b)\n",
    "c = eval(input('请输入整和： '))\n",
    "if b + a == c:\n",
    "    print('真')\n",
    "else:\n",
    "    print('假')"
   ]
  },
  {
   "cell_type": "markdown",
   "metadata": {},
   "source": [
    "- 3\n",
    "![](../Photo/44.png)"
   ]
  },
  {
   "cell_type": "code",
   "execution_count": 75,
   "metadata": {},
   "outputs": [
    {
     "name": "stdout",
     "output_type": "stream",
     "text": [
      "今天星期几： 0\n",
      "未来几天后： 31\n",
      "今天是星期 0 31 天后星期 3\n"
     ]
    }
   ],
   "source": [
    "a = eval(input('今天星期几： '))\n",
    "b = eval(input('未来几天后： '))\n",
    "c = (a+b)%7\n",
    "if c==0:\n",
    "    print('今天是星期日',b,'天后星期日')\n",
    "else:\n",
    "    print('今天是星期',a,b,'天后星期',c)"
   ]
  },
  {
   "cell_type": "markdown",
   "metadata": {},
   "source": [
    "- 4\n",
    "![](../Photo/45.png)"
   ]
  },
  {
   "cell_type": "code",
   "execution_count": null,
   "metadata": {},
   "outputs": [],
   "source": [
    "a,b,c = eval(input('请输入3个数： '))\n",
    "d=max(a,b,c)\n",
    "e=min(a,b,c)\n",
    "f=a+b+c-d-e\n",
    "print(e,f,d)"
   ]
  },
  {
   "cell_type": "markdown",
   "metadata": {},
   "source": [
    "- 5\n",
    "![](../Photo/46.png)"
   ]
  },
  {
   "cell_type": "code",
   "execution_count": null,
   "metadata": {},
   "outputs": [],
   "source": [
    "a,b = eval(input('请输入1号重量和价钱： '))\n",
    "c,d = eval(input('请输入2号重量和价钱： '))\n",
    "e=a/b\n",
    "f=c/d\n",
    "if e>f:\n",
    "    print('1号食品性价比更好！')\n",
    "else:\n",
    "    print('2号食品性价比更好！')"
   ]
  },
  {
   "cell_type": "markdown",
   "metadata": {},
   "source": [
    "- 6\n",
    "![](../Photo/47.png)"
   ]
  },
  {
   "cell_type": "code",
   "execution_count": null,
   "metadata": {},
   "outputs": [],
   "source": [
    "yue = eval(input('月份： '))\n",
    "year = eval(input('年份: '))\n",
    "if yue == 2:\n",
    "    if ((year % 4 ==0 and  year % 100 != 0) or year % 400 ==0):\n",
    "        print(year,'年的2月有29天！')\n",
    "    else:\n",
    "        print(year,'年的2月有28天！')\n",
    "elif yue == 1 or yue ==3 or yue ==5 or yue ==7 or yue ==8 or yue ==10 or yue ==12:\n",
    "    print(year,'年的',yue,'月有31天！')\n",
    "elif yue == 4 or yue ==6 or yue ==9 or yue ==11:\n",
    "    print(year,'年的',yue,'月有30天！')\n",
    "\n"
   ]
  },
  {
   "cell_type": "markdown",
   "metadata": {},
   "source": [
    "- 7\n",
    "![](../Photo/48.png)"
   ]
  },
  {
   "cell_type": "code",
   "execution_count": 6,
   "metadata": {},
   "outputs": [
    {
     "name": "stdout",
     "output_type": "stream",
     "text": [
      "(测试程序是否正确2为正，3为反) 3\n",
      "请猜测硬币正反面： 正面\n",
      "猜错了！\n"
     ]
    }
   ],
   "source": [
    "import random\n",
    "a = random.randint(2,3)\n",
    "print('(测试程序是否正确2为正，3为反)',a)\n",
    "#2为正面，3为反面\n",
    "b = input('请猜测硬币正反面： ')\n",
    "if b == '正面' and a == 2:\n",
    "    print('猜对了！')\n",
    "elif b == '反面' and a==3:\n",
    "    print('猜对了！')\n",
    "else:\n",
    "    print('猜错了！')"
   ]
  },
  {
   "cell_type": "markdown",
   "metadata": {},
   "source": [
    "- 8\n",
    "![](../Photo/49.png)"
   ]
  },
  {
   "cell_type": "code",
   "execution_count": 10,
   "metadata": {},
   "outputs": [
    {
     "name": "stdout",
     "output_type": "stream",
     "text": [
      "请输入你要出什么（0=剪刀，1=石头，2=布）： 0\n",
      "2\n",
      "玩家获胜!\n"
     ]
    }
   ],
   "source": [
    "import random\n",
    "a = eval(input('请输入你要出什么（0=剪刀，1=石头，2=布）： '))\n",
    "b = random.randint(0,2)\n",
    "print(b)\n",
    "if a == 0 and b == 2:\n",
    "    print('玩家获胜!')\n",
    "elif a == 1 and b == 0:\n",
    "    print('玩家获胜!')\n",
    "elif a == 2 and b == 1:\n",
    "    print('玩家获胜!')\n",
    "elif a == b:\n",
    "    print('平局！')\n",
    "else:\n",
    "    print('电脑获胜!')"
   ]
  },
  {
   "cell_type": "code",
   "execution_count": null,
   "metadata": {},
   "outputs": [],
   "source": [
    "h =(q+(26*(m+1))/10+k+k/4+j/4+5*j)%7"
   ]
  },
  {
   "cell_type": "markdown",
   "metadata": {},
   "source": [
    "- 9\n",
    "![](../Photo/50.png)"
   ]
  },
  {
   "cell_type": "code",
   "execution_count": 36,
   "metadata": {},
   "outputs": [
    {
     "name": "stdout",
     "output_type": "stream",
     "text": [
      "输入年份：2013\n",
      "输入月份：1\n",
      "输入当前月份的某天：25\n",
      "Day of the week is 星期五\n"
     ]
    }
   ],
   "source": [
    "year = eval(input('输入年份：'))\n",
    "months = eval(input('输入月份：'))\n",
    "days = eval(input('输入当前月份的某天：'))\n",
    "hdayDict = {0:'星期六',1:'星期日', 2: '星期一', 3: '星期二', 4: '星期三', 5: '星期四', 6: '星期五'}\n",
    "monDict = {1: '13', 2: '14', 3: '3', 4: '4', 5: '5', 6: '6', 7: '7', 8: '8', 9: '9', 10: '10', \\\n",
    "             11: '11', 12: '12'}\n",
    "if months == 1 or months == 2:\n",
    "    year = year - 1 \n",
    "shijishu = year // 100\n",
    "shijiyear = year % 100\n",
    "h = (days + (26 * (eval(monDict[months]) + 1)) // 10 + shijiyear + shijiyear // 4 + shijishu // 4 + 5 * shijishu) % 7\n",
    "print('Day of the week is ' + hdayDict[h])\n",
    "    "
   ]
  },
  {
   "cell_type": "markdown",
   "metadata": {},
   "source": [
    "- 10\n",
    "![](../Photo/51.png)"
   ]
  },
  {
   "cell_type": "code",
   "execution_count": 63,
   "metadata": {},
   "outputs": [
    {
     "name": "stdout",
     "output_type": "stream",
     "text": [
      "黑桃1\n"
     ]
    }
   ],
   "source": [
    "import random\n",
    "a = random.randint(1,13)\n",
    "huase ={1:'梅花',2:'红桃',3:'方块',4:'黑桃'}\n",
    "c = random.randint(1,4)\n",
    "d = huase[c]+str(a)\n",
    "print(d)"
   ]
  },
  {
   "cell_type": "markdown",
   "metadata": {},
   "source": [
    "- 11\n",
    "![](../Photo/52.png)"
   ]
  },
  {
   "cell_type": "code",
   "execution_count": 35,
   "metadata": {},
   "outputs": [
    {
     "name": "stdout",
     "output_type": "stream",
     "text": [
      "请输入一个3位数： 123\n",
      "不是回文数\n"
     ]
    }
   ],
   "source": [
    "a = input('请输入一个3位数： ')\n",
    "b = a[2]+a[1]+a[0]\n",
    "if a == b:\n",
    "    print('是回文数')\n",
    "else:\n",
    "    print('不是回文数')"
   ]
  },
  {
   "cell_type": "markdown",
   "metadata": {},
   "source": [
    "- 12\n",
    "![](../Photo/53.png)"
   ]
  },
  {
   "cell_type": "code",
   "execution_count": 29,
   "metadata": {},
   "outputs": [
    {
     "name": "stdout",
     "output_type": "stream",
     "text": [
      "输入三边：4,6,10\n",
      "输入非法\n"
     ]
    }
   ],
   "source": [
    "a,b,c =eval(input('输入三边：'))\n",
    "if a+b>c and a-b<c:\n",
    "    d=a+b+c\n",
    "    print(d)\n",
    "else:\n",
    "    print('输入非法')"
   ]
  }
 ],
 "metadata": {
  "kernelspec": {
   "display_name": "Python 3",
   "language": "python",
   "name": "python3"
  },
  "language_info": {
   "codemirror_mode": {
    "name": "ipython",
    "version": 3
   },
   "file_extension": ".py",
   "mimetype": "text/x-python",
   "name": "python",
   "nbconvert_exporter": "python",
   "pygments_lexer": "ipython3",
   "version": "3.6.4"
  }
 },
 "nbformat": 4,
 "nbformat_minor": 2
}
